{
 "cells": [
  {
   "cell_type": "code",
   "execution_count": 1,
   "metadata": {
    "collapsed": false,
    "scrolled": false
   },
   "outputs": [],
   "source": [
    "# import pip\n",
    "# sorted([\"%s==%s\" % (i.key, i.version) for i in pip.get_installed_distributions()])"
   ]
  },
  {
   "cell_type": "code",
   "execution_count": 2,
   "metadata": {
    "collapsed": false
   },
   "outputs": [],
   "source": [
    "# import os\n",
    "# os.getcwd()"
   ]
  },
  {
   "cell_type": "code",
   "execution_count": 3,
   "metadata": {
    "collapsed": false
   },
   "outputs": [],
   "source": [
    "import tensorflow as tf\n",
    "import numpy as np\n",
    "\n",
    "# Import MINST data\n",
    "from tensorflow.examples.tutorials.mnist import input_data"
   ]
  },
  {
   "cell_type": "markdown",
   "metadata": {},
   "source": [
    "''' To classify images using a bidirectional reccurent neural network, we consider every image row as a sequence of pixels. Because MNIST image shape is 28*28px, we will then handle 28 sequences of 28 steps for every sample. '''"
   ]
  },
  {
   "cell_type": "code",
   "execution_count": 4,
   "metadata": {
    "collapsed": false,
    "scrolled": true
   },
   "outputs": [
    {
     "name": "stdout",
     "output_type": "stream",
     "text": [
      "Extracting MNIST_data/train-images-idx3-ubyte.gz\n",
      "Extracting MNIST_data/train-labels-idx1-ubyte.gz\n",
      "Extracting MNIST_data/t10k-images-idx3-ubyte.gz\n",
      "Extracting MNIST_data/t10k-labels-idx1-ubyte.gz\n"
     ]
    }
   ],
   "source": [
    "tf.reset_default_graph()\n",
    "\n",
    "MNIST_dataset_path = 'MNIST_data/'\n",
    "log_path = 'log'\n",
    "\n",
    "# if folder exists, remove all content\n",
    "if tf.gfile.Exists(log_path):\n",
    "    tf.gfile.DeleteRecursively(log_path)\n",
    "tf.gfile.MakeDirs(log_path)\n",
    "\n",
    "mnist = input_data.read_data_sets(MNIST_dataset_path, one_hot = True)"
   ]
  },
  {
   "cell_type": "code",
   "execution_count": 5,
   "metadata": {
    "collapsed": false
   },
   "outputs": [],
   "source": [
    "# Parameters\n",
    "learning_rate = 0.001\n",
    "training_iters = 100000\n",
    "batch_size = 128\n",
    "display_step = 10\n",
    "dropout = 0.9  # keep prob\n",
    "\n",
    "# Network Parameters\n",
    "n_input = 28 # MNIST data input (img shape: 28*28)\n",
    "n_steps = 28 # timesteps\n",
    "n_hidden = 128 # hidden layer num of features\n",
    "n_classes = 10 # MNIST total classes (0-9 digits)\n",
    "\n",
    "# tf Graph input\n",
    "# with tf.name_scope('input'):\n",
    "x = tf.placeholder(\"float\", [None, n_steps, n_input], name = 'InputData')\n",
    "y = tf.placeholder(\"float\", [None, n_classes], name = 'LabelData')\n",
    "# keep_prob = tf.placeholder(tf.float32)\n",
    "# tf.summary.scalar('dropout_keep_probability', keep_prob)\n",
    "    \n",
    "# # Define weights\n",
    "# weights = {\n",
    "#     # Hidden layer weights => 2*n_hidden because of foward + backward cells\n",
    "#     'out': tf.Variable(tf.truncated_normal([2*n_hidden, n_classes]))\n",
    "# }\n",
    "# biases = {\n",
    "#     'out': tf.Variable(tf.truncated_normal([n_classes]))\n",
    "# }"
   ]
  },
  {
   "cell_type": "code",
   "execution_count": 6,
   "metadata": {
    "collapsed": true
   },
   "outputs": [],
   "source": [
    "def weight_variable(shape):\n",
    "    \"\"\"Create a weight variable with appropriate initialization.\"\"\"\n",
    "    initial = tf.truncated_normal(shape, stddev=0.1)\n",
    "    return tf.Variable(initial)\n",
    "\n",
    "def bias_variable(shape):\n",
    "    \"\"\"Create a bias variable with appropriate initialization.\"\"\"\n",
    "    initial = tf.constant(0.1, shape=shape)\n",
    "    return tf.Variable(initial)"
   ]
  },
  {
   "cell_type": "code",
   "execution_count": 7,
   "metadata": {
    "collapsed": true
   },
   "outputs": [],
   "source": [
    "def variable_summaries(var, name):\n",
    "    \"\"\"Attach a lot of summaries to a Tensor.\"\"\"\n",
    "    with tf.name_scope('summaries'):\n",
    "        mean = tf.reduce_mean(var)\n",
    "        tf.summary.scalar('mean/' + name, mean)\n",
    "        with tf.name_scope('stddev'):\n",
    "            stddev = tf.sqrt(tf.reduce_sum(tf.square(var - mean)))\n",
    "        tf.summary.scalar('sttdev/' + name, stddev)\n",
    "        tf.summary.scalar('max/' + name, tf.reduce_max(var))\n",
    "        tf.summary.scalar('min/' + name, tf.reduce_min(var))\n",
    "        tf.summary.histogram(name, var)"
   ]
  },
  {
   "cell_type": "code",
   "execution_count": 8,
   "metadata": {
    "collapsed": true
   },
   "outputs": [],
   "source": [
    "def BiRNN(x, input_dim, output_dim, layer_name, activate = tf.nn.relu):\n",
    "\n",
    "    # Prepare data shape to match `bidirectional_rnn` function requirements\n",
    "    # Current data input shape: (batch_size, n_steps, n_input)\n",
    "    # Required shape: 'n_steps' tensors list of shape (batch_size, n_input)\n",
    "    with tf.name_scope(layer_name):\n",
    "        \n",
    "#         with tf.name_scope('weights'):\n",
    "        weights = weight_variable([2 * input_dim, output_dim])\n",
    "        variable_summaries(weights, layer_name + '/weights')\n",
    "#         with tf.name_scope('biases'):\n",
    "        biases = bias_variable([output_dim])\n",
    "        variable_summaries(biases, layer_name + '/biases')\n",
    "        \n",
    "        # Permuting batch_size and n_steps\n",
    "        x = tf.transpose(x, [1, 0, 2])\n",
    "        # Reshape to (n_steps*batch_size, n_input)\n",
    "        x = tf.reshape(x, [-1, n_input])\n",
    "        # Split to get a list of 'n_steps' tensors of shape (batch_size, n_input)\n",
    "        x = tf.split(0, n_steps, x)\n",
    "\n",
    "        # Define lstm cells with tensorflow\n",
    "        # Forward direction cell\n",
    "        lstm_fw_cell = tf.nn.rnn_cell.BasicLSTMCell(n_hidden, forget_bias=1.0)\n",
    "        # Backward direction cell\n",
    "        lstm_bw_cell = tf.nn.rnn_cell.BasicLSTMCell(n_hidden, forget_bias=1.0)\n",
    "\n",
    "        # Get lstm cell output\n",
    "#         try:\n",
    "        outputs, _, _ = tf.nn.bidirectional_rnn(lstm_fw_cell, lstm_bw_cell, x,\n",
    "                                              dtype=tf.float32)\n",
    "#         except Exception: # Old TensorFlow version only returns outputs not states\n",
    "#             outputs = tf.nn.bidirectional_rnn(lstm_fw_cell, lstm_bw_cell, x,\n",
    "#                                             dtype=tf.float32)\n",
    "\n",
    "        # Linear activation, using rnn inner loop last output\n",
    "        lin_activations = tf.matmul(outputs[-1], weights) + biases\n",
    "        activations = activate(lin_activations, 'activation')\n",
    "        tf.summary.histogram(layer_name + '/activations', activations)\n",
    "        return activations"
   ]
  },
  {
   "cell_type": "code",
   "execution_count": 9,
   "metadata": {
    "collapsed": false
   },
   "outputs": [],
   "source": [
    "with tf.name_scope('Model'):\n",
    "    pred = BiRNN(x, n_hidden, n_classes, 'layer_1')\n",
    "#     variable_summaries()\n",
    "\n",
    "with tf.name_scope('Loss'):\n",
    "    cost = tf.reduce_mean(tf.nn.softmax_cross_entropy_with_logits(logits=pred, labels=y))\n",
    "\n",
    "with tf.name_scope('Optimizer'):\n",
    "    optimizer = tf.train.AdamOptimizer(learning_rate=learning_rate).minimize(cost)\n",
    "\n",
    "# # Evaluate model\n",
    "with tf.name_scope('Accuracy'):\n",
    "    correct_pred = tf.equal(tf.argmax(pred,1), tf.argmax(y,1))\n",
    "    accuracy = tf.reduce_mean(tf.cast(correct_pred, tf.float32))\n",
    "\n",
    "# # Initializing the variables\n",
    "init = tf.global_variables_initializer()\n",
    "# init = tf.initialize_all_variables().run()"
   ]
  },
  {
   "cell_type": "code",
   "execution_count": 10,
   "metadata": {
    "collapsed": false
   },
   "outputs": [],
   "source": [
    "# Create a summary to monitor cost tensor\n",
    "tf.summary.scalar(\"loss\", cost)\n",
    "# Create a summary to monitor accuracy tensor\n",
    "tf.summary.scalar(\"accuracy\", accuracy)\n",
    "# Merge all summaries into a single op\n",
    "merged_summary_op = tf.summary.merge_all()"
   ]
  },
  {
   "cell_type": "code",
   "execution_count": 11,
   "metadata": {
    "collapsed": false,
    "scrolled": true
   },
   "outputs": [
    {
     "name": "stdout",
     "output_type": "stream",
     "text": [
      "Iter 1280, Minibatch Loss= 2.179289, Training Accuracy= 0.25000\n",
      "Iter 2560, Minibatch Loss= 1.945461, Training Accuracy= 0.33594\n",
      "Iter 3840, Minibatch Loss= 1.580908, Training Accuracy= 0.49219\n",
      "Iter 5120, Minibatch Loss= 1.241914, Training Accuracy= 0.67188\n",
      "Iter 6400, Minibatch Loss= 0.908585, Training Accuracy= 0.78125\n",
      "Iter 7680, Minibatch Loss= 0.958676, Training Accuracy= 0.71875\n",
      "Iter 8960, Minibatch Loss= 0.747770, Training Accuracy= 0.78125\n",
      "Iter 10240, Minibatch Loss= 0.616611, Training Accuracy= 0.87500\n",
      "Iter 11520, Minibatch Loss= 0.441207, Training Accuracy= 0.87500\n",
      "Iter 12800, Minibatch Loss= 0.564387, Training Accuracy= 0.81250\n",
      "Iter 14080, Minibatch Loss= 0.399285, Training Accuracy= 0.90625\n",
      "Iter 15360, Minibatch Loss= 0.349946, Training Accuracy= 0.91406\n",
      "Iter 16640, Minibatch Loss= 0.391109, Training Accuracy= 0.90625\n",
      "Iter 17920, Minibatch Loss= 0.280629, Training Accuracy= 0.90625\n",
      "Iter 19200, Minibatch Loss= 0.348255, Training Accuracy= 0.90625\n",
      "Iter 20480, Minibatch Loss= 0.173285, Training Accuracy= 0.96875\n",
      "Iter 21760, Minibatch Loss= 0.395164, Training Accuracy= 0.85938\n",
      "Iter 23040, Minibatch Loss= 0.180438, Training Accuracy= 0.96094\n",
      "Iter 24320, Minibatch Loss= 0.360494, Training Accuracy= 0.89844\n",
      "Iter 25600, Minibatch Loss= 0.268566, Training Accuracy= 0.93750\n",
      "Iter 26880, Minibatch Loss= 0.226995, Training Accuracy= 0.94531\n",
      "Iter 28160, Minibatch Loss= 0.286676, Training Accuracy= 0.91406\n",
      "Iter 29440, Minibatch Loss= 0.331884, Training Accuracy= 0.89844\n",
      "Iter 30720, Minibatch Loss= 0.210755, Training Accuracy= 0.95312\n",
      "Iter 32000, Minibatch Loss= 0.191424, Training Accuracy= 0.92188\n",
      "Iter 33280, Minibatch Loss= 0.169261, Training Accuracy= 0.94531\n",
      "Iter 34560, Minibatch Loss= 0.211173, Training Accuracy= 0.93750\n",
      "Iter 35840, Minibatch Loss= 0.098705, Training Accuracy= 0.95312\n",
      "Iter 37120, Minibatch Loss= 0.230143, Training Accuracy= 0.92969\n",
      "Iter 38400, Minibatch Loss= 0.135101, Training Accuracy= 0.93750\n",
      "Iter 39680, Minibatch Loss= 0.136377, Training Accuracy= 0.97656\n",
      "Iter 40960, Minibatch Loss= 0.240110, Training Accuracy= 0.92969\n",
      "Iter 42240, Minibatch Loss= 0.137627, Training Accuracy= 0.96875\n",
      "Iter 43520, Minibatch Loss= 0.167942, Training Accuracy= 0.96094\n",
      "Iter 44800, Minibatch Loss= 0.107860, Training Accuracy= 0.96875\n",
      "Iter 46080, Minibatch Loss= 0.111583, Training Accuracy= 0.96875\n",
      "Iter 47360, Minibatch Loss= 0.217973, Training Accuracy= 0.92969\n",
      "Iter 48640, Minibatch Loss= 0.178736, Training Accuracy= 0.94531\n",
      "Iter 49920, Minibatch Loss= 0.204483, Training Accuracy= 0.95312\n",
      "Iter 51200, Minibatch Loss= 0.124066, Training Accuracy= 0.96875\n",
      "Iter 52480, Minibatch Loss= 0.150780, Training Accuracy= 0.96875\n",
      "Iter 53760, Minibatch Loss= 0.065068, Training Accuracy= 0.97656\n",
      "Iter 55040, Minibatch Loss= 0.128794, Training Accuracy= 0.96094\n",
      "Iter 56320, Minibatch Loss= 0.075829, Training Accuracy= 0.97656\n",
      "Iter 57600, Minibatch Loss= 0.146903, Training Accuracy= 0.96875\n",
      "Iter 58880, Minibatch Loss= 0.047229, Training Accuracy= 0.99219\n",
      "Iter 60160, Minibatch Loss= 0.130373, Training Accuracy= 0.96094\n",
      "Iter 61440, Minibatch Loss= 0.153483, Training Accuracy= 0.96875\n",
      "Iter 62720, Minibatch Loss= 0.045243, Training Accuracy= 1.00000\n",
      "Iter 64000, Minibatch Loss= 0.115231, Training Accuracy= 0.96094\n",
      "Iter 65280, Minibatch Loss= 0.205517, Training Accuracy= 0.95312\n",
      "Iter 66560, Minibatch Loss= 0.072593, Training Accuracy= 0.97656\n",
      "Iter 67840, Minibatch Loss= 0.140113, Training Accuracy= 0.96094\n",
      "Iter 69120, Minibatch Loss= 0.094880, Training Accuracy= 0.96875\n",
      "Iter 70400, Minibatch Loss= 0.158529, Training Accuracy= 0.96094\n",
      "Iter 71680, Minibatch Loss= 0.098474, Training Accuracy= 0.97656\n",
      "Iter 72960, Minibatch Loss= 0.103726, Training Accuracy= 0.97656\n",
      "Iter 74240, Minibatch Loss= 0.142806, Training Accuracy= 0.96094\n",
      "Iter 75520, Minibatch Loss= 0.193546, Training Accuracy= 0.95312\n",
      "Iter 76800, Minibatch Loss= 0.146476, Training Accuracy= 0.96094\n",
      "Iter 78080, Minibatch Loss= 0.042426, Training Accuracy= 0.99219\n",
      "Iter 79360, Minibatch Loss= 0.069939, Training Accuracy= 0.98438\n",
      "Iter 80640, Minibatch Loss= 0.163370, Training Accuracy= 0.95312\n",
      "Iter 81920, Minibatch Loss= 0.108270, Training Accuracy= 0.96875\n",
      "Iter 83200, Minibatch Loss= 0.104062, Training Accuracy= 0.97656\n",
      "Iter 84480, Minibatch Loss= 0.068125, Training Accuracy= 0.97656\n",
      "Iter 85760, Minibatch Loss= 0.084442, Training Accuracy= 0.98438\n",
      "Iter 87040, Minibatch Loss= 0.039138, Training Accuracy= 1.00000\n",
      "Iter 88320, Minibatch Loss= 0.155076, Training Accuracy= 0.96875\n",
      "Iter 89600, Minibatch Loss= 0.076725, Training Accuracy= 0.98438\n",
      "Iter 90880, Minibatch Loss= 0.086680, Training Accuracy= 0.98438\n",
      "Iter 92160, Minibatch Loss= 0.144329, Training Accuracy= 0.96094\n",
      "Iter 93440, Minibatch Loss= 0.121317, Training Accuracy= 0.96094\n",
      "Iter 94720, Minibatch Loss= 0.180411, Training Accuracy= 0.96875\n",
      "Iter 96000, Minibatch Loss= 0.079889, Training Accuracy= 0.98438\n",
      "Iter 97280, Minibatch Loss= 0.099752, Training Accuracy= 0.96875\n",
      "Iter 98560, Minibatch Loss= 0.107628, Training Accuracy= 0.96875\n",
      "Iter 99840, Minibatch Loss= 0.121279, Training Accuracy= 0.97656\n",
      "Optimization Finished!\n",
      "Testing Accuracy: 0.976562\n",
      "Run the command line:\n",
      "--> tensorboard --logdir=log/\n",
      "Then open http://0.0.0.0:6006/ into your web browser\n"
     ]
    }
   ],
   "source": [
    "# Launch the graph\n",
    "with tf.Session() as sess:\n",
    "    sess.run(init)\n",
    "    \n",
    "    # op to write logs to Tensorboard\n",
    "    summary_writer = tf.summary.FileWriter(log_path, graph=tf.get_default_graph())\n",
    "    \n",
    "    step = 1\n",
    "    # Keep training until reach max iterations\n",
    "    while step * batch_size < training_iters:\n",
    "        batch_x, batch_y = mnist.train.next_batch(batch_size)\n",
    "        # Reshape data to get 28 seq of 28 elements\n",
    "        batch_x = batch_x.reshape((batch_size, n_steps, n_input))\n",
    "        # Run optimization op (backprop)\n",
    "        sess.run(optimizer, feed_dict={x: batch_x, y: batch_y})\n",
    "        if step % display_step == 0:\n",
    "            \n",
    "            # Run optimization op (backprop), cost op (to get loss value)\n",
    "            # and summary nodes\n",
    "            foo, bar, summary = sess.run([optimizer, cost, merged_summary_op],\n",
    "                                     feed_dict={x: batch_x, y: batch_y})\n",
    "            # Write logs at every iteration\n",
    "            summary_writer.add_summary(summary, step)\n",
    "            \n",
    "            # Calculate batch accuracy\n",
    "            acc = sess.run(accuracy, feed_dict={x: batch_x, y: batch_y})\n",
    "            # Calculate batch loss\n",
    "            loss = sess.run(cost, feed_dict={x: batch_x, y: batch_y})\n",
    "            print (\"Iter \" + str(step*batch_size) + \", Minibatch Loss= \" + \\\n",
    "                  \"{:.6f}\".format(loss) + \", Training Accuracy= \" + \\\n",
    "                  \"{:.5f}\".format(acc))\n",
    "        step += 1\n",
    "\n",
    "    print (\"Optimization Finished!\")\n",
    "\n",
    "    # Calculate accuracy for 128 mnist test images\n",
    "    test_len = 128\n",
    "    test_data = mnist.test.images[:test_len].reshape((-1, n_steps, n_input))\n",
    "    test_label = mnist.test.labels[:test_len]\n",
    "    print (\"Testing Accuracy:\", \\\n",
    "        \"{:.6f}\".format(sess.run(accuracy, feed_dict={x: test_data, y: test_label})))\n",
    "    \n",
    "    print(\"Run the command line:\\n\" +\n",
    "          \"--> tensorboard --logdir=\" + str(log_path) + \"/\" +\n",
    "          \"\\nThen open http://0.0.0.0:6006/ into your web browser\")"
   ]
  },
  {
   "cell_type": "markdown",
   "metadata": {},
   "source": [
    "https://www.tensorflow.org/versions/r0.10/api_docs/python/nn/#rnn\n",
    "\n",
    "https://github.com/dennybritz/tf-rnn/blob/master/rnn_cell_wrappers.py.ipynb"
   ]
  },
  {
   "cell_type": "markdown",
   "metadata": {
    "collapsed": true
   },
   "source": [
    "https://www.tensorflow.org/how_tos/summaries_and_tensorboard/\n",
    "\n",
    "https://www.tensorflow.org/how_tos/graph_viz/"
   ]
  },
  {
   "cell_type": "code",
   "execution_count": null,
   "metadata": {
    "collapsed": true
   },
   "outputs": [],
   "source": []
  },
  {
   "cell_type": "code",
   "execution_count": null,
   "metadata": {
    "collapsed": true
   },
   "outputs": [],
   "source": []
  }
 ],
 "metadata": {
  "anaconda-cloud": {},
  "kernelspec": {
   "display_name": "Python [conda env:tensorflow]",
   "language": "python",
   "name": "conda-env-tensorflow-py"
  },
  "language_info": {
   "codemirror_mode": {
    "name": "ipython",
    "version": 3
   },
   "file_extension": ".py",
   "mimetype": "text/x-python",
   "name": "python",
   "nbconvert_exporter": "python",
   "pygments_lexer": "ipython3",
   "version": "3.5.2"
  }
 },
 "nbformat": 4,
 "nbformat_minor": 1
}
