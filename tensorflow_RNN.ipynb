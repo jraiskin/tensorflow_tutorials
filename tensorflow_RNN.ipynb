{
 "cells": [
  {
   "cell_type": "code",
   "execution_count": 1,
   "metadata": {
    "collapsed": false,
    "scrolled": false
   },
   "outputs": [],
   "source": [
    "# import pip\n",
    "# sorted([\"%s==%s\" % (i.key, i.version) for i in pip.get_installed_distributions()])"
   ]
  },
  {
   "cell_type": "code",
   "execution_count": 2,
   "metadata": {
    "collapsed": false
   },
   "outputs": [],
   "source": [
    "# import os\n",
    "# os.getcwd()"
   ]
  },
  {
   "cell_type": "code",
   "execution_count": 3,
   "metadata": {
    "collapsed": false
   },
   "outputs": [
    {
     "name": "stdout",
     "output_type": "stream",
     "text": [
      "Extracting MNIST_data/train-images-idx3-ubyte.gz\n",
      "Extracting MNIST_data/train-labels-idx1-ubyte.gz\n",
      "Extracting MNIST_data/t10k-images-idx3-ubyte.gz\n",
      "Extracting MNIST_data/t10k-labels-idx1-ubyte.gz\n"
     ]
    }
   ],
   "source": [
    "import tensorflow as tf\n",
    "from tensorflow.contrib import rnn\n",
    "import numpy as np\n",
    "\n",
    "# Import MINST data\n",
    "from tensorflow.examples.tutorials.mnist import input_data\n",
    "mnist = input_data.read_data_sets(\"MNIST_data/\", one_hot=True)"
   ]
  },
  {
   "cell_type": "markdown",
   "metadata": {},
   "source": [
    "''' To classify images using a bidirectional reccurent neural network, we consider every image row as a sequence of pixels. Because MNIST image shape is 28*28px, we will then handle 28 sequences of 28 steps for every sample. '''"
   ]
  },
  {
   "cell_type": "code",
   "execution_count": 19,
   "metadata": {
    "collapsed": true
   },
   "outputs": [],
   "source": [
    "tf.reset_default_graph()\n",
    "\n",
    "# Parameters\n",
    "learning_rate = 0.001\n",
    "training_iters = 100000\n",
    "batch_size = 128\n",
    "display_step = 10\n",
    "\n",
    "# Network Parameters\n",
    "n_input = 28 # MNIST data input (img shape: 28*28)\n",
    "n_steps = 28 # timesteps\n",
    "n_hidden = 128 # hidden layer num of features\n",
    "n_classes = 10 # MNIST total classes (0-9 digits)\n",
    "\n",
    "# tf Graph input\n",
    "x = tf.placeholder(\"float\", [None, n_steps, n_input])\n",
    "y = tf.placeholder(\"float\", [None, n_classes])\n",
    "\n",
    "# Define weights\n",
    "weights = {\n",
    "    # Hidden layer weights => 2*n_hidden because of foward + backward cells\n",
    "    'out': tf.Variable(tf.random_normal([2*n_hidden, n_classes]))\n",
    "}\n",
    "biases = {\n",
    "    'out': tf.Variable(tf.random_normal([n_classes]))\n",
    "}"
   ]
  },
  {
   "cell_type": "code",
   "execution_count": 20,
   "metadata": {
    "collapsed": false
   },
   "outputs": [],
   "source": [
    "def BiRNN(x, weights, biases):\n",
    "\n",
    "    # Prepare data shape to match `bidirectional_rnn` function requirements\n",
    "    # Current data input shape: (batch_size, n_steps, n_input)\n",
    "    # Required shape: 'n_steps' tensors list of shape (batch_size, n_input)\n",
    "    \n",
    "    # Permuting batch_size and n_steps\n",
    "    x = tf.transpose(x, [1, 0, 2])\n",
    "    # Reshape to (n_steps*batch_size, n_input)\n",
    "    x = tf.reshape(x, [-1, n_input])\n",
    "    # Split to get a list of 'n_steps' tensors of shape (batch_size, n_input)\n",
    "#     x = tf.split(x, n_steps, 0)\n",
    "    x = tf.split(0, n_steps, x)\n",
    "    \n",
    "    # Define lstm cells with tensorflow\n",
    "    # Forward direction cell\n",
    "    lstm_fw_cell = tf.nn.rnn_cell.BasicLSTMCell(n_hidden, forget_bias=1.0)\n",
    "    # Backward direction cell\n",
    "    lstm_bw_cell = tf.nn.rnn_cell.BasicLSTMCell(n_hidden, forget_bias=1.0)\n",
    "\n",
    "    # Get lstm cell output\n",
    "    try:\n",
    "        outputs, _, _ = tf.nn.bidirectional_rnn(lstm_fw_cell, lstm_bw_cell, x,\n",
    "                                              dtype=tf.float32)\n",
    "    except Exception: # Old TensorFlow version only returns outputs not states\n",
    "        outputs = tf.nn.bidirectional_rnn(lstm_fw_cell, lstm_bw_cell, x,\n",
    "                                        dtype=tf.float32)\n",
    "\n",
    "    # Linear activation, using rnn inner loop last output\n",
    "    return tf.matmul(outputs[-1], weights['out']) + biases['out']\n",
    "\n",
    "pred = BiRNN(x, weights, biases)\n",
    "\n",
    "# Define loss and optimizer\n",
    "cost = tf.reduce_mean(tf.nn.softmax_cross_entropy_with_logits(logits=pred, labels=y))\n",
    "optimizer = tf.train.AdamOptimizer(learning_rate=learning_rate).minimize(cost)\n",
    "\n",
    "# # Evaluate model\n",
    "correct_pred = tf.equal(tf.argmax(pred,1), tf.argmax(y,1))\n",
    "accuracy = tf.reduce_mean(tf.cast(correct_pred, tf.float32))\n",
    "\n",
    "# # Initializing the variables\n",
    "init = tf.global_variables_initializer()"
   ]
  },
  {
   "cell_type": "code",
   "execution_count": 42,
   "metadata": {
    "collapsed": false
   },
   "outputs": [
    {
     "name": "stdout",
     "output_type": "stream",
     "text": [
      "Iter 1280, Minibatch Loss= 1.791313, Training Accuracy= 0.35156\n",
      "Iter 2560, Minibatch Loss= 1.454515, Training Accuracy= 0.46875\n",
      "Iter 3840, Minibatch Loss= 1.113318, Training Accuracy= 0.62500\n",
      "Iter 5120, Minibatch Loss= 1.099071, Training Accuracy= 0.66406\n",
      "Iter 6400, Minibatch Loss= 0.673449, Training Accuracy= 0.82031\n",
      "Iter 7680, Minibatch Loss= 0.592729, Training Accuracy= 0.84375\n",
      "Iter 8960, Minibatch Loss= 0.588924, Training Accuracy= 0.80469\n",
      "Iter 10240, Minibatch Loss= 0.350167, Training Accuracy= 0.91406\n",
      "Iter 11520, Minibatch Loss= 0.302229, Training Accuracy= 0.92188\n",
      "Iter 12800, Minibatch Loss= 0.383354, Training Accuracy= 0.85938\n",
      "Iter 14080, Minibatch Loss= 0.300633, Training Accuracy= 0.91406\n",
      "Iter 15360, Minibatch Loss= 0.289880, Training Accuracy= 0.89844\n",
      "Iter 16640, Minibatch Loss= 0.256004, Training Accuracy= 0.92188\n",
      "Iter 17920, Minibatch Loss= 0.323088, Training Accuracy= 0.89844\n",
      "Iter 19200, Minibatch Loss= 0.313524, Training Accuracy= 0.86719\n",
      "Iter 20480, Minibatch Loss= 0.216709, Training Accuracy= 0.89844\n",
      "Iter 21760, Minibatch Loss= 0.137802, Training Accuracy= 0.96094\n",
      "Iter 23040, Minibatch Loss= 0.213384, Training Accuracy= 0.92969\n",
      "Iter 24320, Minibatch Loss= 0.217264, Training Accuracy= 0.93750\n",
      "Iter 25600, Minibatch Loss= 0.154230, Training Accuracy= 0.93750\n",
      "Iter 26880, Minibatch Loss= 0.166383, Training Accuracy= 0.95312\n",
      "Iter 28160, Minibatch Loss= 0.204962, Training Accuracy= 0.96094\n",
      "Iter 29440, Minibatch Loss= 0.162237, Training Accuracy= 0.93750\n",
      "Iter 30720, Minibatch Loss= 0.143040, Training Accuracy= 0.97656\n",
      "Iter 32000, Minibatch Loss= 0.132683, Training Accuracy= 0.96094\n",
      "Iter 33280, Minibatch Loss= 0.272893, Training Accuracy= 0.90625\n",
      "Iter 34560, Minibatch Loss= 0.221360, Training Accuracy= 0.92969\n",
      "Iter 35840, Minibatch Loss= 0.194823, Training Accuracy= 0.94531\n",
      "Iter 37120, Minibatch Loss= 0.137293, Training Accuracy= 0.95312\n",
      "Iter 38400, Minibatch Loss= 0.157072, Training Accuracy= 0.95312\n",
      "Iter 39680, Minibatch Loss= 0.411375, Training Accuracy= 0.93750\n",
      "Iter 40960, Minibatch Loss= 0.086694, Training Accuracy= 0.98438\n",
      "Iter 42240, Minibatch Loss= 0.317168, Training Accuracy= 0.89062\n",
      "Iter 43520, Minibatch Loss= 0.145755, Training Accuracy= 0.94531\n",
      "Iter 44800, Minibatch Loss= 0.091227, Training Accuracy= 0.96094\n",
      "Iter 46080, Minibatch Loss= 0.192093, Training Accuracy= 0.92969\n",
      "Iter 47360, Minibatch Loss= 0.084319, Training Accuracy= 0.96094\n",
      "Iter 48640, Minibatch Loss= 0.189051, Training Accuracy= 0.96094\n",
      "Iter 49920, Minibatch Loss= 0.128088, Training Accuracy= 0.98438\n",
      "Iter 51200, Minibatch Loss= 0.112371, Training Accuracy= 0.97656\n",
      "Iter 52480, Minibatch Loss= 0.107816, Training Accuracy= 0.96875\n",
      "Iter 53760, Minibatch Loss= 0.140520, Training Accuracy= 0.96875\n",
      "Iter 55040, Minibatch Loss= 0.191750, Training Accuracy= 0.95312\n",
      "Iter 56320, Minibatch Loss= 0.076837, Training Accuracy= 0.97656\n",
      "Iter 57600, Minibatch Loss= 0.062491, Training Accuracy= 0.98438\n",
      "Iter 58880, Minibatch Loss= 0.132823, Training Accuracy= 0.95312\n",
      "Iter 60160, Minibatch Loss= 0.164194, Training Accuracy= 0.96875\n",
      "Iter 61440, Minibatch Loss= 0.247236, Training Accuracy= 0.92969\n",
      "Iter 62720, Minibatch Loss= 0.162477, Training Accuracy= 0.93750\n",
      "Iter 64000, Minibatch Loss= 0.090483, Training Accuracy= 0.96875\n",
      "Iter 65280, Minibatch Loss= 0.075007, Training Accuracy= 0.97656\n",
      "Iter 66560, Minibatch Loss= 0.115339, Training Accuracy= 0.94531\n",
      "Iter 67840, Minibatch Loss= 0.055322, Training Accuracy= 0.98438\n",
      "Iter 69120, Minibatch Loss= 0.143923, Training Accuracy= 0.96094\n",
      "Iter 70400, Minibatch Loss= 0.086978, Training Accuracy= 0.97656\n",
      "Iter 71680, Minibatch Loss= 0.133477, Training Accuracy= 0.95312\n",
      "Iter 72960, Minibatch Loss= 0.107519, Training Accuracy= 0.95312\n",
      "Iter 74240, Minibatch Loss= 0.097623, Training Accuracy= 0.98438\n",
      "Iter 75520, Minibatch Loss= 0.099576, Training Accuracy= 0.97656\n",
      "Iter 76800, Minibatch Loss= 0.053200, Training Accuracy= 0.98438\n",
      "Iter 78080, Minibatch Loss= 0.216139, Training Accuracy= 0.93750\n",
      "Iter 79360, Minibatch Loss= 0.061682, Training Accuracy= 0.98438\n",
      "Iter 80640, Minibatch Loss= 0.153732, Training Accuracy= 0.93750\n",
      "Iter 81920, Minibatch Loss= 0.179675, Training Accuracy= 0.95312\n",
      "Iter 83200, Minibatch Loss= 0.139886, Training Accuracy= 0.96875\n",
      "Iter 84480, Minibatch Loss= 0.123331, Training Accuracy= 0.96875\n",
      "Iter 85760, Minibatch Loss= 0.114497, Training Accuracy= 0.96875\n",
      "Iter 87040, Minibatch Loss= 0.185156, Training Accuracy= 0.93750\n",
      "Iter 88320, Minibatch Loss= 0.074121, Training Accuracy= 0.97656\n",
      "Iter 89600, Minibatch Loss= 0.096859, Training Accuracy= 0.96094\n",
      "Iter 90880, Minibatch Loss= 0.026407, Training Accuracy= 1.00000\n",
      "Iter 92160, Minibatch Loss= 0.065063, Training Accuracy= 0.97656\n",
      "Iter 93440, Minibatch Loss= 0.108321, Training Accuracy= 0.96875\n",
      "Iter 94720, Minibatch Loss= 0.038665, Training Accuracy= 0.99219\n",
      "Iter 96000, Minibatch Loss= 0.085266, Training Accuracy= 0.99219\n",
      "Iter 97280, Minibatch Loss= 0.052023, Training Accuracy= 0.98438\n",
      "Iter 98560, Minibatch Loss= 0.124870, Training Accuracy= 0.96875\n",
      "Iter 99840, Minibatch Loss= 0.066083, Training Accuracy= 0.97656\n",
      "Optimization Finished!\n",
      "Testing Accuracy: 1.000000\n"
     ]
    }
   ],
   "source": [
    "# Launch the graph\n",
    "with tf.Session() as sess:\n",
    "    sess.run(init)\n",
    "    step = 1\n",
    "    # Keep training until reach max iterations\n",
    "    while step * batch_size < training_iters:\n",
    "        batch_x, batch_y = mnist.train.next_batch(batch_size)\n",
    "        # Reshape data to get 28 seq of 28 elements\n",
    "        batch_x = batch_x.reshape((batch_size, n_steps, n_input))\n",
    "        # Run optimization op (backprop)\n",
    "        sess.run(optimizer, feed_dict={x: batch_x, y: batch_y})\n",
    "        if step % display_step == 0:\n",
    "            # Calculate batch accuracy\n",
    "            acc = sess.run(accuracy, feed_dict={x: batch_x, y: batch_y})\n",
    "            # Calculate batch loss\n",
    "            loss = sess.run(cost, feed_dict={x: batch_x, y: batch_y})\n",
    "            print (\"Iter \" + str(step*batch_size) + \", Minibatch Loss= \" + \\\n",
    "                  \"{:.6f}\".format(loss) + \", Training Accuracy= \" + \\\n",
    "                  \"{:.5f}\".format(acc))\n",
    "        step += 1\n",
    "    print (\"Optimization Finished!\")\n",
    "\n",
    "    # Calculate accuracy for 128 mnist test images\n",
    "    test_len = 128\n",
    "    test_data = mnist.test.images[:test_len].reshape((-1, n_steps, n_input))\n",
    "    test_label = mnist.test.labels[:test_len]\n",
    "    print (\"Testing Accuracy:\", \\\n",
    "        \"{:.6f}\".format(sess.run(accuracy, feed_dict={x: test_data, y: test_label})))"
   ]
  },
  {
   "cell_type": "markdown",
   "metadata": {},
   "source": [
    "https://www.tensorflow.org/versions/r0.10/api_docs/python/nn/#rnn\n",
    "\n",
    "https://github.com/dennybritz/tf-rnn/blob/master/rnn_cell_wrappers.py.ipynb"
   ]
  },
  {
   "cell_type": "code",
   "execution_count": null,
   "metadata": {
    "collapsed": true
   },
   "outputs": [],
   "source": [
    "# setup github ssh connection"
   ]
  }
 ],
 "metadata": {
  "anaconda-cloud": {},
  "kernelspec": {
   "display_name": "Python [conda env:tensorflow]",
   "language": "python",
   "name": "conda-env-tensorflow-py"
  },
  "language_info": {
   "codemirror_mode": {
    "name": "ipython",
    "version": 3
   },
   "file_extension": ".py",
   "mimetype": "text/x-python",
   "name": "python",
   "nbconvert_exporter": "python",
   "pygments_lexer": "ipython3",
   "version": "3.5.2"
  }
 },
 "nbformat": 4,
 "nbformat_minor": 1
}
